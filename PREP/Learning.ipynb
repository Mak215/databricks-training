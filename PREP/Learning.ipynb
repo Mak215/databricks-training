{
 "cells": [
  {
   "cell_type": "code",
   "execution_count": 0,
   "metadata": {
    "application/vnd.databricks.v1+cell": {
     "cellMetadata": {
      "byteLimit": 2048000,
      "rowLimit": 10000
     },
     "inputWidgets": {},
     "nuid": "1fd14834-4b76-40d2-875e-9e2e5a83136c",
     "showTitle": false,
     "tableResultSettingsMap": {},
     "title": ""
    }
   },
   "outputs": [],
   "source": [
    "from pyspark.sql.types import *\n",
    "\n",
    "c_schema =StructType([\n",
    "  StructField(\"gamer_id\", IntegerType(), True),\n",
    "  StructField(\"game\", StringType(), True),\n",
    "  StructField(\"behavior\", StringType(), True),\n",
    "  StructField(\"playhours\", DecimalType(), True),\n",
    "  StructField(\"ratings\", StringType(), True)\n",
    "]\n",
    ")\n",
    "df = spark.read \\\n",
    ".option(\"header\",True) \\\n",
    ".schema(c_schema) \\\n",
    ".csv(\"/Volumes/workspace/garage/files/datasets/steam-200k.csv\")\n",
    "display(df)\n",
    "df.printSchema()"
   ]
  },
  {
   "cell_type": "code",
   "execution_count": 0,
   "metadata": {
    "application/vnd.databricks.v1+cell": {
     "cellMetadata": {
      "byteLimit": 2048000,
      "rowLimit": 10000
     },
     "inputWidgets": {},
     "nuid": "e1113b7c-425e-4d12-bda5-0cd6c61433fe",
     "showTitle": false,
     "tableResultSettingsMap": {},
     "title": ""
    }
   },
   "outputs": [],
   "source": [
    "df.select(\"game\").distinct().count()"
   ]
  },
  {
   "cell_type": "code",
   "execution_count": 0,
   "metadata": {
    "application/vnd.databricks.v1+cell": {
     "cellMetadata": {
      "byteLimit": 2048000,
      "rowLimit": 10000
     },
     "inputWidgets": {},
     "nuid": "cdd1b3a7-b4fe-490c-8b16-5e331c74eb27",
     "showTitle": false,
     "tableResultSettingsMap": {},
     "title": ""
    }
   },
   "outputs": [],
   "source": [
    "df.rdd.getNumPartitions()"
   ]
  },
  {
   "cell_type": "code",
   "execution_count": 0,
   "metadata": {
    "application/vnd.databricks.v1+cell": {
     "cellMetadata": {
      "byteLimit": 2048000,
      "rowLimit": 10000
     },
     "inputWidgets": {},
     "nuid": "c72fa480-5d86-41a0-aeeb-c78894066e84",
     "showTitle": false,
     "tableResultSettingsMap": {},
     "title": ""
    }
   },
   "outputs": [],
   "source": [
    "df.write.mode(\"overwrite\").parquet(\"/Volumes/workspace/garage/files/datasets/gamelogs_unpart\")"
   ]
  },
  {
   "cell_type": "code",
   "execution_count": 0,
   "metadata": {
    "application/vnd.databricks.v1+cell": {
     "cellMetadata": {
      "byteLimit": 2048000,
      "rowLimit": 10000
     },
     "inputWidgets": {},
     "nuid": "bfcf11fe-37c4-49f8-a5ba-f8a24481407e",
     "showTitle": false,
     "tableResultSettingsMap": {},
     "title": ""
    }
   },
   "outputs": [],
   "source": [
    "display(dbutils.fs.ls(\"/Volumes/workspace/garage/files/datasets/gamelogs_unpart\"))\n"
   ]
  },
  {
   "cell_type": "code",
   "execution_count": 0,
   "metadata": {
    "application/vnd.databricks.v1+cell": {
     "cellMetadata": {
      "byteLimit": 2048000,
      "rowLimit": 10000
     },
     "inputWidgets": {},
     "nuid": "cb6c5196-9fbd-4abb-bc9b-15b2f4b645ff",
     "showTitle": false,
     "tableResultSettingsMap": {},
     "title": ""
    }
   },
   "outputs": [],
   "source": [
    "df.write.mode(\"overwrite\").partitionBy(\"game\").parquet(\"/Volumes/workspace/garage/files/datasets/gamelogs_part\")\n",
    "display(dbutils.fs.ls(\"/Volumes/workspace/garage/files/datasets/gamelogs_part\"))\n"
   ]
  },
  {
   "cell_type": "code",
   "execution_count": 0,
   "metadata": {
    "application/vnd.databricks.v1+cell": {
     "cellMetadata": {},
     "inputWidgets": {},
     "nuid": "a86f818a-025a-46cb-be72-8c9eee2d40ef",
     "showTitle": false,
     "tableResultSettingsMap": {},
     "title": ""
    }
   },
   "outputs": [],
   "source": []
  },
  {
   "cell_type": "code",
   "execution_count": 0,
   "metadata": {
    "application/vnd.databricks.v1+cell": {
     "cellMetadata": {
      "byteLimit": 2048000,
      "rowLimit": 10000
     },
     "inputWidgets": {},
     "nuid": "cca90d30-f21f-43f1-aff8-9d5470da2708",
     "showTitle": false,
     "tableResultSettingsMap": {},
     "title": ""
    }
   },
   "outputs": [],
   "source": [
    "df = spark.read \\\n",
    ".option(\"delemeter\",\",\") \\\n",
    ".option(\"header\",True) \\\n",
    ".option(\"encoding\",\"UTF-8\") \\\n",
    ".csv(\"/Volumes/workspace/garage/files/datasets/cancer.csv\")\n",
    "\n",
    "display(df)"
   ]
  },
  {
   "cell_type": "code",
   "execution_count": 0,
   "metadata": {
    "application/vnd.databricks.v1+cell": {
     "cellMetadata": {
      "byteLimit": 2048000,
      "rowLimit": 10000
     },
     "inputWidgets": {},
     "nuid": "fa4b35a8-814b-4ccb-b9b5-4dfc4826835a",
     "showTitle": false,
     "tableResultSettingsMap": {},
     "title": ""
    }
   },
   "outputs": [],
   "source": [
    "df.printSchema()"
   ]
  },
  {
   "cell_type": "code",
   "execution_count": 0,
   "metadata": {
    "application/vnd.databricks.v1+cell": {
     "cellMetadata": {
      "byteLimit": 2048000,
      "rowLimit": 10000
     },
     "inputWidgets": {},
     "nuid": "9701fcd9-f3a4-480c-923b-59ade9e07a9d",
     "showTitle": false,
     "tableResultSettingsMap": {},
     "title": ""
    }
   },
   "outputs": [],
   "source": [
    "from pyspark.sql.types import *\n",
    "\n",
    "c_schema =StructType([\n",
    "  StructField(\"customer_id\", IntegerType(), True),\n",
    "  StructField(\"gender\", StringType(), True),\n",
    "  StructField(\"age\", IntegerType(), True),\n",
    "  StructField(\"annual_income_k_usd\", IntegerType(), True),\n",
    "  StructField(\"score\", IntegerType(), True)\n",
    "]\n",
    ")"
   ]
  },
  {
   "cell_type": "code",
   "execution_count": 0,
   "metadata": {
    "application/vnd.databricks.v1+cell": {
     "cellMetadata": {
      "byteLimit": 2048000,
      "rowLimit": 10000
     },
     "inputWidgets": {},
     "nuid": "8b2778e2-bce4-4c44-b875-aadc878032a2",
     "showTitle": false,
     "tableResultSettingsMap": {},
     "title": ""
    }
   },
   "outputs": [],
   "source": [
    "df_custom_schema = spark.read \\\n",
    ".option(\"delemeter\",\",\") \\\n",
    ".option(\"header\",True) \\\n",
    ".schema(c_schema) \\\n",
    ".csv(\"/Volumes/workspace/garage/files/datasets/Mall_Customers.csv\")\n",
    "display(df_custom_schema)\n",
    "df_custom_schema.printSchema()"
   ]
  },
  {
   "cell_type": "code",
   "execution_count": 0,
   "metadata": {
    "application/vnd.databricks.v1+cell": {
     "cellMetadata": {
      "byteLimit": 2048000,
      "rowLimit": 10000
     },
     "inputWidgets": {},
     "nuid": "3ae4fd17-1f21-4bb2-856d-2f6771ce8529",
     "showTitle": false,
     "tableResultSettingsMap": {},
     "title": ""
    }
   },
   "outputs": [],
   "source": [
    "li = df.take(2)\n",
    "print(li)"
   ]
  },
  {
   "cell_type": "code",
   "execution_count": 0,
   "metadata": {
    "application/vnd.databricks.v1+cell": {
     "cellMetadata": {
      "byteLimit": 2048000,
      "rowLimit": 10000
     },
     "inputWidgets": {},
     "nuid": "101f1bcb-767a-4033-b2ec-26b9a9f1d651",
     "showTitle": false,
     "tableResultSettingsMap": {},
     "title": ""
    }
   },
   "outputs": [],
   "source": [
    "print(len(li))\n",
    "print(li[0][\"State\"])"
   ]
  },
  {
   "cell_type": "code",
   "execution_count": 0,
   "metadata": {
    "application/vnd.databricks.v1+cell": {
     "cellMetadata": {
      "byteLimit": 2048000,
      "rowLimit": 10000
     },
     "inputWidgets": {},
     "nuid": "608dfce5-c1d9-48e6-a868-eeba0cf2873d",
     "showTitle": false,
     "tableResultSettingsMap": {},
     "title": ""
    }
   },
   "outputs": [],
   "source": [
    "df_json =spark.read.option(\"multiline\", True).json('/Volumes/workspace/garage/files/datasets/used_cars_nested.json')\n",
    "display(df_json)"
   ]
  },
  {
   "cell_type": "code",
   "execution_count": 0,
   "metadata": {
    "application/vnd.databricks.v1+cell": {
     "cellMetadata": {
      "byteLimit": 2048000,
      "rowLimit": 10000
     },
     "inputWidgets": {},
     "nuid": "6a3d6bf8-c47c-44fd-97c4-9a8c5688fc06",
     "showTitle": false,
     "tableResultSettingsMap": {},
     "title": ""
    }
   },
   "outputs": [],
   "source": [
    "df_order_list = spark.read.option(\"header\",True).option(\"inferSchema\",True).csv('/Volumes/workspace/garage/files/datasets/sales/orderlist.csv')\n",
    "display(df_order_list)\n"
   ]
  },
  {
   "cell_type": "code",
   "execution_count": 0,
   "metadata": {
    "application/vnd.databricks.v1+cell": {
     "cellMetadata": {
      "byteLimit": 2048000,
      "rowLimit": 10000
     },
     "inputWidgets": {},
     "nuid": "d923d8eb-15e4-4a52-8b5a-f745cbcddcdd",
     "showTitle": false,
     "tableResultSettingsMap": {
      "0": {
       "dataGridStateBlob": "{\"version\":1,\"tableState\":{\"columnPinning\":{\"left\":[\"#row_number#\"],\"right\":[]},\"columnSizing\":{},\"columnVisibility\":{}},\"settings\":{\"columns\":{}},\"syncTimestamp\":1754471116899}",
       "filterBlob": null,
       "queryPlanFiltersBlob": null,
       "tableResultIndex": 0
      }
     },
     "title": ""
    }
   },
   "outputs": [],
   "source": [
    "from pyspark.sql.functions import col,current_timestamp,current_date,to_date,to_timestamp,dayofmonth,day,year,quarter,month,weekofyear,to_date,to_timestamp,date_add,date_sub,date_trunc,date_format,add_months,months_between,date_diff\n",
    "df_ps10 = df_order_list \\\n",
    "    .withColumn(\"OrderDate\",to_date(col(\"Order Date\"),\"dd-MM-yyyy\"))\\\n",
    "    .withColumn(\"current_date\",current_date())\\\n",
    "    .withColumn(\"current_timestamp\",current_timestamp())\\\n",
    "    .withColumn(\"Day\",dayofmonth(col(\"OrderDate\")))\\\n",
    "    .withColumn(\"Year\",year(col(\"OrderDate\")))\\\n",
    "    .withColumn(\"Quarter\",quarter(col(\"OrderDate\")))\\\n",
    "    .withColumn(\"Month\",month(col(\"OrderDate\")))\\\n",
    "    .withColumn(\"order_next_10_day\", date_add(col(\"OrderDate\"),10)) \\\n",
    "    .withColumn(\"order_prev_10_day\", date_sub(col(\"OrderDate\"),10))\\\n",
    "    .withColumn(\"Order_next_month\",add_months(col(\"OrderDate\"),1))\\\n",
    "    .withColumn(\"order_prev_month\",add_months(col(\"OrderDate\"),-1))\\\n",
    "    .withColumn(\"date_diff\",date_diff(col(\"OrderDate\"),col(\"current_date\")))\n",
    "    \n",
    "display(df_ps10)"
   ]
  },
  {
   "cell_type": "code",
   "execution_count": 0,
   "metadata": {
    "application/vnd.databricks.v1+cell": {
     "cellMetadata": {
      "byteLimit": 2048000,
      "rowLimit": 10000
     },
     "inputWidgets": {},
     "nuid": "6a07cdd5-a572-4a19-b700-9cbbd2fa3d55",
     "showTitle": false,
     "tableResultSettingsMap": {},
     "title": ""
    }
   },
   "outputs": [],
   "source": [
    "from pyspark.sql.functions import lpad,rpad,repeat,split,col,regexp_replace,regexp_extract,upper,lower,initcap,concat_ws,concat,substring,length,regexp_replace,regexp_extract_all,regexp_extract,sha1,sha2,md5,substring_index"
   ]
  },
  {
   "cell_type": "code",
   "execution_count": 0,
   "metadata": {
    "application/vnd.databricks.v1+cell": {
     "cellMetadata": {
      "byteLimit": 2048000,
      "rowLimit": 10000
     },
     "inputWidgets": {},
     "nuid": "2fa315f8-bb9a-4003-999a-9b22afdec209",
     "showTitle": false,
     "tableResultSettingsMap": {},
     "title": ""
    }
   },
   "outputs": [],
   "source": [
    "df_ps09 = df_order_list.withColumn(\"cust_length\", length(col(\"CustomerName\")))\n",
    "display(df_ps09)"
   ]
  },
  {
   "cell_type": "code",
   "execution_count": 0,
   "metadata": {
    "application/vnd.databricks.v1+cell": {
     "cellMetadata": {
      "byteLimit": 2048000,
      "rowLimit": 10000
     },
     "inputWidgets": {},
     "nuid": "f0dc393e-1a6e-460e-aaf0-917796aa4cdd",
     "showTitle": false,
     "tableResultSettingsMap": {
      "0": {
       "dataGridStateBlob": "{\"version\":1,\"tableState\":{\"columnPinning\":{\"left\":[\"#row_number#\"],\"right\":[]},\"columnSizing\":{},\"columnVisibility\":{}},\"settings\":{\"columns\":{}},\"syncTimestamp\":1754394777078}",
       "filterBlob": null,
       "queryPlanFiltersBlob": null,
       "tableResultIndex": 0
      }
     },
     "title": ""
    }
   },
   "outputs": [],
   "source": [
    "df_ps09 = df_order_list \\\n",
    "    .withColumn(\"cust_lower\", lower(col(\"CustomerName\"))) \\\n",
    "    .withColumn(\"cust_upper\", upper(col(\"CustomerName\"))) \\\n",
    "    .withColumn(\"cust_initcap\", initcap(col(\"CustomerName\"))) \\\n",
    "    .withColumn(\"hidden_column\",regexp_replace(col(\"CustomerName\"),\"a\",\"*\") ) \\\n",
    "    .withColumn(\"cust_start\",substring(col(\"CustomerName\"),1,3)) \\\n",
    "    .withColumn(\"cust_lastname\",substring(col(\"CustomerName\"),-3,3)) \\\n",
    "    .withColumn(\"Year\", split(col(\"Order Date\"),\"-\")[0]) \\\n",
    "    .withColumn(\"Month\", split(col(\"Order Date\"),\"-\")[1]) \\\n",
    "    .withColumn(\"repeat_date\",repeat(col(\"Order Date\"),1)) \\\n",
    "    .withColumn(\"cust_lpad\",lpad(col(\"CustomerName\"),10,\"#\")) \\\n",
    "    .withColumn(\"cust_rpad\",rpad(col(\"CustomerName\"),10,\"$\")) \\\n",
    "\n",
    "    \n",
    "   \n",
    "    \n",
    "display(df_ps09)\n"
   ]
  },
  {
   "cell_type": "code",
   "execution_count": 0,
   "metadata": {
    "application/vnd.databricks.v1+cell": {
     "cellMetadata": {
      "byteLimit": 2048000,
      "rowLimit": 10000
     },
     "inputWidgets": {},
     "nuid": "fc99fefa-ee04-42f3-b260-559e609dc0a3",
     "showTitle": false,
     "tableResultSettingsMap": {},
     "title": ""
    }
   },
   "outputs": [],
   "source": [
    "display(df_order_list.filter(df_order_list.CustomerName.isNotNull()).orderBy([df_order_list.CustomerName,df_order_list.State],ascending=True))"
   ]
  },
  {
   "cell_type": "code",
   "execution_count": 0,
   "metadata": {
    "application/vnd.databricks.v1+cell": {
     "cellMetadata": {
      "byteLimit": 2048000,
      "rowLimit": 10000
     },
     "inputWidgets": {},
     "nuid": "641b856f-cdf0-47c3-8674-0bef9d78abd7",
     "showTitle": false,
     "tableResultSettingsMap": {},
     "title": ""
    }
   },
   "outputs": [],
   "source": [
    "display(df_order_list.filter(df_order_list.CustomerName.isNotNull()).orderBy(df_order_list.CustomerName.asc_nulls_last()))"
   ]
  },
  {
   "cell_type": "code",
   "execution_count": 0,
   "metadata": {
    "application/vnd.databricks.v1+cell": {
     "cellMetadata": {
      "byteLimit": 2048000,
      "rowLimit": 10000
     },
     "inputWidgets": {},
     "nuid": "8a66b6d6-db36-4a4c-a9d0-37a8b886ecf0",
     "showTitle": false,
     "tableResultSettingsMap": {},
     "title": ""
    }
   },
   "outputs": [],
   "source": [
    "df_parquet = spark.read.parquet('/Volumes/workspace/garage/files/datasets/USED_CAR_PARQUET/')\n",
    "display(df_parquet)"
   ]
  },
  {
   "cell_type": "code",
   "execution_count": 0,
   "metadata": {
    "application/vnd.databricks.v1+cell": {
     "cellMetadata": {
      "byteLimit": 2048000,
      "rowLimit": 10000
     },
     "inputWidgets": {},
     "nuid": "43fad839-dc70-4cef-9f34-023ec6ddffe0",
     "showTitle": false,
     "tableResultSettingsMap": {},
     "title": ""
    }
   },
   "outputs": [],
   "source": [
    "from pyspark.sql.functions import col\n",
    "df_agg = df_parquet.groupBy(\"body_type\").count().orderBy(col(\"count\").desc( ))\n",
    "display(df_agg )"
   ]
  },
  {
   "cell_type": "code",
   "execution_count": 0,
   "metadata": {
    "application/vnd.databricks.v1+cell": {
     "cellMetadata": {
      "byteLimit": 2048000,
      "rowLimit": 10000
     },
     "inputWidgets": {},
     "nuid": "5dbbf4d9-23c6-4f4d-8706-91fcfec51f2d",
     "showTitle": false,
     "tableResultSettingsMap": {},
     "title": ""
    }
   },
   "outputs": [],
   "source": [
    "display(df_parquet.groupBy(\"body_type\",\"brand_name\").count().orderBy(col(\"count\").desc( )))"
   ]
  },
  {
   "cell_type": "code",
   "execution_count": 0,
   "metadata": {
    "application/vnd.databricks.v1+cell": {
     "cellMetadata": {
      "byteLimit": 2048000,
      "rowLimit": 10000
     },
     "inputWidgets": {},
     "nuid": "6099fe3b-fabb-489e-a257-6746e8d3930f",
     "showTitle": false,
     "tableResultSettingsMap": {},
     "title": ""
    }
   },
   "outputs": [],
   "source": [
    "from pyspark.sql.functions import col\n",
    "df_avgprice = df_parquet.groupBy(\"body_type\").mean(\"price\").orderBy(col(\"avg(price)\").desc())\n",
    "display(df_avgprice)\n",
    "                                                                "
   ]
  },
  {
   "cell_type": "code",
   "execution_count": 0,
   "metadata": {
    "application/vnd.databricks.v1+cell": {
     "cellMetadata": {
      "byteLimit": 2048000,
      "rowLimit": 10000
     },
     "inputWidgets": {},
     "nuid": "5bbad81f-5a9e-4760-b785-7fa0c73902a3",
     "showTitle": false,
     "tableResultSettingsMap": {},
     "title": ""
    }
   },
   "outputs": [],
   "source": [
    "df_agg = df_parquet.agg({\"brand_name\":\"count\",\"body_type\":\"count\",\"price\":\"avg\"})\n",
    "display(df_agg)\n"
   ]
  },
  {
   "cell_type": "code",
   "execution_count": 0,
   "metadata": {
    "application/vnd.databricks.v1+cell": {
     "cellMetadata": {
      "byteLimit": 2048000,
      "rowLimit": 10000
     },
     "inputWidgets": {},
     "nuid": "3952a7fd-18f7-43c3-96f9-f6a03cbb8b3e",
     "showTitle": false,
     "tableResultSettingsMap": {},
     "title": ""
    }
   },
   "outputs": [],
   "source": [
    "df_describe = df_parquet.describe()\n",
    "display(df_describe)"
   ]
  },
  {
   "cell_type": "code",
   "execution_count": 0,
   "metadata": {
    "application/vnd.databricks.v1+cell": {
     "cellMetadata": {
      "byteLimit": 2048000,
      "rowLimit": 10000
     },
     "inputWidgets": {},
     "nuid": "c1af6d2d-4606-49f3-8fe4-d1638e392b3c",
     "showTitle": false,
     "tableResultSettingsMap": {},
     "title": ""
    }
   },
   "outputs": [],
   "source": [
    "all_columns =df_parquet.columns\n",
    "print(all_columns)"
   ]
  },
  {
   "cell_type": "code",
   "execution_count": 0,
   "metadata": {
    "application/vnd.databricks.v1+cell": {
     "cellMetadata": {
      "byteLimit": 2048000,
      "rowLimit": 10000
     },
     "inputWidgets": {},
     "nuid": "abf0345d-09bd-487a-8ca8-a543b3e94e04",
     "showTitle": false,
     "tableResultSettingsMap": {},
     "title": ""
    }
   },
   "outputs": [],
   "source": [
    "display(df_parquet.select(\"vehicle_type\",\"model\",\"price\"))"
   ]
  },
  {
   "cell_type": "code",
   "execution_count": 0,
   "metadata": {
    "application/vnd.databricks.v1+cell": {
     "cellMetadata": {
      "byteLimit": 2048000,
      "rowLimit": 10000
     },
     "inputWidgets": {},
     "nuid": "875ee272-1f00-49a9-ae4a-4cf2892e35ed",
     "showTitle": false,
     "tableResultSettingsMap": {},
     "title": ""
    }
   },
   "outputs": [],
   "source": [
    "from pyspark.sql.functions import col\n",
    "display(df_parquet.select(col(\"price\"),col(\"model\")))\n"
   ]
  },
  {
   "cell_type": "code",
   "execution_count": 0,
   "metadata": {
    "application/vnd.databricks.v1+cell": {
     "cellMetadata": {
      "byteLimit": 2048000,
      "rowLimit": 10000
     },
     "inputWidgets": {},
     "nuid": "55d0d455-39b8-4357-8573-d75cef189c51",
     "showTitle": false,
     "tableResultSettingsMap": {},
     "title": ""
    }
   },
   "outputs": [],
   "source": [
    "from pyspark.sql.functions import col\n",
    "df_limit = df_parquet.select(col(\"price\"),col(\"model\")).limit(10)\n",
    "display(df_limit)"
   ]
  },
  {
   "cell_type": "code",
   "execution_count": 0,
   "metadata": {
    "application/vnd.databricks.v1+cell": {
     "cellMetadata": {
      "byteLimit": 2048000,
      "rowLimit": 10000
     },
     "inputWidgets": {},
     "nuid": "65ac63c2-80cf-400b-9fa0-edc6587eae0b",
     "showTitle": false,
     "tableResultSettingsMap": {
      "0": {
       "dataGridStateBlob": "{\"version\":1,\"tableState\":{\"columnPinning\":{\"left\":[\"#row_number#\"],\"right\":[]},\"columnSizing\":{},\"columnVisibility\":{}},\"settings\":{\"columns\":{}},\"syncTimestamp\":1754036963351}",
       "filterBlob": null,
       "queryPlanFiltersBlob": null,
       "tableResultIndex": 0
      }
     },
     "title": ""
    }
   },
   "outputs": [],
   "source": [
    "from pyspark.sql.functions import concat_ws, col\n",
    "df_parquet = spark.read.parquet('/Volumes/workspace/garage/files/datasets/USED_CAR_PARQUET/')\n",
    "df_processed = df_parquet \\\n",
    ".withColumn(\"full name\",concat_ws(\" \", col(\"brand_name\"),col(\"model\")))\n",
    "df_processed =df_processed.withColumnRenamed(\"full name\",\"vehicle name\")\n",
    "display(df_processed.drop(\"model\"))"
   ]
  },
  {
   "cell_type": "code",
   "execution_count": 0,
   "metadata": {
    "application/vnd.databricks.v1+cell": {
     "cellMetadata": {
      "byteLimit": 2048000,
      "rowLimit": 10000
     },
     "inputWidgets": {},
     "nuid": "6ac29811-7385-4eca-baf3-83ee359f4569",
     "showTitle": false,
     "tableResultSettingsMap": {},
     "title": ""
    }
   },
   "outputs": [],
   "source": [
    "df_suv = df_processed.filter(col(\"body_type\") == \"SUV\")\n",
    "display(df_suv)"
   ]
  },
  {
   "cell_type": "code",
   "execution_count": 0,
   "metadata": {
    "application/vnd.databricks.v1+cell": {
     "cellMetadata": {
      "byteLimit": 2048000,
      "rowLimit": 10000
     },
     "inputWidgets": {},
     "nuid": "b5d6428e-21ef-42e5-94ef-cb9a58e86a22",
     "showTitle": false,
     "tableResultSettingsMap": {},
     "title": ""
    }
   },
   "outputs": [],
   "source": [
    "from pyspark.sql.functions import col,regexp_replace, when\n",
    "df_suv = df_processed \\\n",
    "    .withColumn(\"power\", when(regexp_replace(df_parquet.displacement,\"cc\",\"\")<1500,\"Low\") \\\n",
    "        .when((regexp_replace(df_parquet.displacement,\"cc\",\"\")>=1500) & (regexp_replace(df_parquet.displacement,\"cc\",\"\")<2500),\"Medium\") \\\n",
    "        .otherwise(\"High\"))\n",
    "display(df_suv)"
   ]
  },
  {
   "cell_type": "code",
   "execution_count": 0,
   "metadata": {
    "application/vnd.databricks.v1+cell": {
     "cellMetadata": {
      "byteLimit": 2048000,
      "rowLimit": 10000
     },
     "inputWidgets": {},
     "nuid": "b6179a8c-252e-4c73-a962-d1de13c51768",
     "showTitle": false,
     "tableResultSettingsMap": {},
     "title": ""
    }
   },
   "outputs": [],
   "source": [
    "df_suz_wh = df_processed \\\n",
    "    .filter((col(\"brand_name\")==\"Suzuki\") & (col(\"color\")==\"White\"))\n",
    "display(df_suz_wh)"
   ]
  },
  {
   "cell_type": "code",
   "execution_count": 0,
   "metadata": {
    "application/vnd.databricks.v1+cell": {
     "cellMetadata": {
      "byteLimit": 2048000,
      "rowLimit": 10000
     },
     "inputWidgets": {},
     "nuid": "4f8e21bb-330d-49b8-a547-4ff816d1f89a",
     "showTitle": false,
     "tableResultSettingsMap": {},
     "title": ""
    }
   },
   "outputs": [],
   "source": [
    "from pyspark.sql.functions import upper\n",
    "df_car = df_processed \\\n",
    "    .filter((upper(col(\"brand_name\"))==\"honda\".upper()) | (upper(col(\"brand_name\"))==\"suzuki\".upper()))\n",
    "display(df_car)"
   ]
  },
  {
   "cell_type": "code",
   "execution_count": 0,
   "metadata": {
    "application/vnd.databricks.v1+cell": {
     "cellMetadata": {
      "byteLimit": 2048000,
      "rowLimit": 10000
     },
     "inputWidgets": {},
     "nuid": "9b3816dc-4f3b-493c-92fb-0be7fa33b7fa",
     "showTitle": false,
     "tableResultSettingsMap": {},
     "title": ""
    }
   },
   "outputs": [],
   "source": [
    "from pyspark.sql.functions import expr,regexp_replace\n",
    "df_car = df_processed \\\n",
    "    .withColumn(\"displacement\",regexp_replace(col(\"displacement\"),\"cc\",\"\")) \\\n",
    "    .withColumn(\"power\", expr(\"case when displacement < 1500 then 'Low' when displacement >= 1500 and displacement < 2500 then 'Medium' else 'High' end\")) \\\n",
    "    .drop(\"manufacturer\",\"description\",\"adtitle\") \\\n",
    "    .select(\"body_type\",\"brand_name\",\"color\",\"displacement\",\"power\")\n",
    "display(df_car)"
   ]
  },
  {
   "cell_type": "code",
   "execution_count": 0,
   "metadata": {
    "application/vnd.databricks.v1+cell": {
     "cellMetadata": {
      "byteLimit": 2048000,
      "implicitDf": true,
      "rowLimit": 10000
     },
     "inputWidgets": {},
     "nuid": "fb1831b2-44f6-4e34-b980-f8ac4a71b3d8",
     "showTitle": false,
     "tableResultSettingsMap": {},
     "title": ""
    }
   },
   "outputs": [],
   "source": [
    "%sql\n",
    "create table if not exists t1 (id int);\n",
    "create table if not exists t2 (id int);\n",
    "create table if not exists t3 (id int);\n"
   ]
  },
  {
   "cell_type": "code",
   "execution_count": 0,
   "metadata": {
    "application/vnd.databricks.v1+cell": {
     "cellMetadata": {
      "byteLimit": 2048000,
      "implicitDf": true,
      "rowLimit": 10000
     },
     "inputWidgets": {},
     "nuid": "453c442c-3d82-49d4-9a2a-e82b757a9878",
     "showTitle": false,
     "tableResultSettingsMap": {},
     "title": ""
    }
   },
   "outputs": [],
   "source": [
    "%sql\n",
    "insert into t1 values (1),(2),(3),(4),(NULL);\n",
    "insert into t2 values (1),(2);\n",
    "insert into t3 values (4),(5),(NULL);"
   ]
  },
  {
   "cell_type": "code",
   "execution_count": 0,
   "metadata": {
    "application/vnd.databricks.v1+cell": {
     "cellMetadata": {
      "byteLimit": 2048000,
      "rowLimit": 10000
     },
     "inputWidgets": {},
     "nuid": "9ee05398-21d3-4287-a57f-6c536dda1559",
     "showTitle": false,
     "tableResultSettingsMap": {},
     "title": ""
    }
   },
   "outputs": [],
   "source": [
    "df_1 = spark.sql(\"select * from t1\")\n",
    "df_2 = spark.sql(\"select * from t2\")\n",
    "df_3 = spark.sql(\"select * from t3\")"
   ]
  },
  {
   "cell_type": "code",
   "execution_count": 0,
   "metadata": {
    "application/vnd.databricks.v1+cell": {
     "cellMetadata": {
      "byteLimit": 2048000,
      "rowLimit": 10000
     },
     "inputWidgets": {},
     "nuid": "c6a5debd-32e9-4864-a2e2-3520e058ee71",
     "showTitle": false,
     "tableResultSettingsMap": {},
     "title": ""
    }
   },
   "outputs": [],
   "source": [
    "df_inner = df_1.join(df_2,df_1.id == df_2.id,\"inner\")\n",
    "display(df_inner)"
   ]
  },
  {
   "cell_type": "code",
   "execution_count": 0,
   "metadata": {
    "application/vnd.databricks.v1+cell": {
     "cellMetadata": {
      "byteLimit": 2048000,
      "rowLimit": 10000
     },
     "inputWidgets": {},
     "nuid": "490743b9-caca-41b6-8fed-b0cdf993afc3",
     "showTitle": false,
     "tableResultSettingsMap": {},
     "title": ""
    }
   },
   "outputs": [],
   "source": [
    "df_left = df_1.join(df_2,df_1.id == df_2.id,\"left\")\n",
    "display(df_left)"
   ]
  },
  {
   "cell_type": "code",
   "execution_count": 0,
   "metadata": {
    "application/vnd.databricks.v1+cell": {
     "cellMetadata": {
      "byteLimit": 2048000,
      "rowLimit": 10000
     },
     "inputWidgets": {},
     "nuid": "93b67c0b-95e0-4564-aaf7-9b7af621fcb8",
     "showTitle": false,
     "tableResultSettingsMap": {},
     "title": ""
    }
   },
   "outputs": [],
   "source": [
    "df_cartesian = df_1.crossJoin(df_3)\n",
    "display(df_cartesian)\n"
   ]
  },
  {
   "cell_type": "code",
   "execution_count": 0,
   "metadata": {
    "application/vnd.databricks.v1+cell": {
     "cellMetadata": {},
     "inputWidgets": {},
     "nuid": "3a9b92c4-b468-4e66-81dc-9075984b5aa7",
     "showTitle": false,
     "tableResultSettingsMap": {},
     "title": ""
    }
   },
   "outputs": [],
   "source": []
  }
 ],
 "metadata": {
  "application/vnd.databricks.v1+notebook": {
   "computePreferences": {
    "hardware": {
     "accelerator": null,
     "gpuPoolId": null,
     "memory": null
    }
   },
   "dashboards": [],
   "environmentMetadata": {
    "base_environment": "",
    "environment_version": "2"
   },
   "inputWidgetPreferences": null,
   "language": "python",
   "notebookMetadata": {
    "mostRecentlyExecutedCommandWithImplicitDF": {
     "commandId": 6803702698100488,
     "dataframes": [
      "_sqldf"
     ]
    },
    "pythonIndentUnit": 4
   },
   "notebookName": "Learning",
   "widgets": {}
  },
  "language_info": {
   "name": "python"
  }
 },
 "nbformat": 4,
 "nbformat_minor": 0
}
